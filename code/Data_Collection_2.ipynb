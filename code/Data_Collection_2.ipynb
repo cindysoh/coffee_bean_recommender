{
 "cells": [
  {
   "cell_type": "code",
   "execution_count": 3,
   "id": "9c5fb501",
   "metadata": {},
   "outputs": [],
   "source": [
    "from selenium import webdriver\n",
    "from webdriver_manager.chrome import ChromeDriverManager\n",
    "from selenium.webdriver.common.by import By\n",
    "from bs4 import BeautifulSoup\n",
    "import pandas as pd\n",
    "import time\n",
    "import numpy as np\n",
    "import requests\n",
    "from bs4 import BeautifulSoup\n",
    "from pprint import pprint"
   ]
  },
  {
   "cell_type": "code",
   "execution_count": 4,
   "id": "ff467936",
   "metadata": {},
   "outputs": [
    {
     "name": "stderr",
     "output_type": "stream",
     "text": [
      "[WDM] - Downloading: 100%|█████████████████| 8.72M/8.72M [00:00<00:00, 39.8MB/s]\n",
      "/var/folders/s9/swv_w1zd6cdfjmwpdh_tnv1r0000gn/T/ipykernel_13471/4070366302.py:1: DeprecationWarning: executable_path has been deprecated, please pass in a Service object\n",
      "  driver = webdriver.Chrome(ChromeDriverManager().install())\n"
     ]
    }
   ],
   "source": [
    "driver = webdriver.Chrome(ChromeDriverManager().install())\n",
    "time.sleep(2)"
   ]
  },
  {
   "cell_type": "code",
   "execution_count": 18,
   "id": "bc01705e",
   "metadata": {},
   "outputs": [],
   "source": [
    "driver.get('https://www.coffeereview.com/review/')\n",
    "time.sleep(2)"
   ]
  },
  {
   "cell_type": "code",
   "execution_count": 21,
   "id": "6be0fc23",
   "metadata": {},
   "outputs": [
    {
     "ename": "AttributeError",
     "evalue": "'list' object has no attribute 'click'",
     "output_type": "error",
     "traceback": [
      "\u001b[0;31m---------------------------------------------------------------------------\u001b[0m",
      "\u001b[0;31mAttributeError\u001b[0m                            Traceback (most recent call last)",
      "\u001b[0;32m/var/folders/s9/swv_w1zd6cdfjmwpdh_tnv1r0000gn/T/ipykernel_13471/2609844422.py\u001b[0m in \u001b[0;36m<module>\u001b[0;34m\u001b[0m\n\u001b[0;32m----> 1\u001b[0;31m \u001b[0mdriver\u001b[0m\u001b[0;34m.\u001b[0m\u001b[0mfind_elements\u001b[0m\u001b[0;34m(\u001b[0m\u001b[0mBy\u001b[0m\u001b[0;34m.\u001b[0m\u001b[0mXPATH\u001b[0m\u001b[0;34m,\u001b[0m \u001b[0;34m'/html/body/div[1]/div[2]/div/main/div[4]/div/div[3]/div[1]/strong/a'\u001b[0m\u001b[0;34m)\u001b[0m\u001b[0;34m.\u001b[0m\u001b[0mclick\u001b[0m\u001b[0;34m(\u001b[0m\u001b[0;34m)\u001b[0m\u001b[0;34m\u001b[0m\u001b[0;34m\u001b[0m\u001b[0m\n\u001b[0m",
      "\u001b[0;31mAttributeError\u001b[0m: 'list' object has no attribute 'click'"
     ]
    }
   ],
   "source": [
    "driver.find_elements(By.XPATH, '/html/body/div[1]/div[2]/div/main/div[4]/div/div[3]/div[1]/strong/a').click()"
   ]
  },
  {
   "cell_type": "code",
   "execution_count": null,
   "id": "087b83b9",
   "metadata": {},
   "outputs": [],
   "source": [
    "/html/body/div[1]/div[2]/div/main/div[4]/div/div[1]/div[2]/p/a"
   ]
  },
  {
   "cell_type": "code",
   "execution_count": null,
   "id": "50da0020",
   "metadata": {},
   "outputs": [],
   "source": [
    "//*[@id=\"genesis-content\"]/div[4]/div/div[3]/div[1]/strong/a"
   ]
  },
  {
   "cell_type": "code",
   "execution_count": null,
   "id": "71848127",
   "metadata": {},
   "outputs": [],
   "source": [
    "/html/body/div[1]/div[2]/div/main/div[4]/div/div[3]/div[1]/strong/a"
   ]
  }
 ],
 "metadata": {
  "kernelspec": {
   "display_name": "Python 3 (ipykernel)",
   "language": "python",
   "name": "python3"
  },
  "language_info": {
   "codemirror_mode": {
    "name": "ipython",
    "version": 3
   },
   "file_extension": ".py",
   "mimetype": "text/x-python",
   "name": "python",
   "nbconvert_exporter": "python",
   "pygments_lexer": "ipython3",
   "version": "3.9.7"
  }
 },
 "nbformat": 4,
 "nbformat_minor": 5
}
