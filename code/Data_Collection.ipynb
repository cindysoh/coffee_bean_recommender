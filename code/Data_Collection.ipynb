{
 "cells": [
  {
   "cell_type": "code",
   "execution_count": 171,
   "id": "8d1b579a",
   "metadata": {},
   "outputs": [],
   "source": [
    "from selenium import webdriver\n",
    "from selenium.webdriver.common.by import By\n",
    "from bs4 import BeautifulSoup\n",
    "import pandas as pd\n",
    "import time\n",
    "import numpy as np\n",
    "import requests\n",
    "from bs4 import BeautifulSoup\n",
    "from pprint import pprint"
   ]
  },
  {
   "cell_type": "code",
   "execution_count": 21,
   "id": "130ee4a3",
   "metadata": {},
   "outputs": [],
   "source": [
    "login_email = 'cindysoh90@gmail.com'\n",
    "login_password = 'Csyh8838@'"
   ]
  },
  {
   "cell_type": "code",
   "execution_count": 8,
   "id": "58e4f96d",
   "metadata": {
    "scrolled": true
   },
   "outputs": [
    {
     "name": "stderr",
     "output_type": "stream",
     "text": [
      "[WDM] - Downloading: 100%|█████████████████| 8.61M/8.61M [00:00<00:00, 32.1MB/s]\n",
      "/var/folders/s9/swv_w1zd6cdfjmwpdh_tnv1r0000gn/T/ipykernel_91283/4070366302.py:1: DeprecationWarning: executable_path has been deprecated, please pass in a Service object\n",
      "  driver = webdriver.Chrome(ChromeDriverManager().install())\n"
     ]
    }
   ],
   "source": [
    "driver = webdriver.Chrome(ChromeDriverManager().install())\n",
    "time.sleep(2)"
   ]
  },
  {
   "cell_type": "code",
   "execution_count": 36,
   "id": "8094601d",
   "metadata": {},
   "outputs": [],
   "source": [
    "driver.get('https://database.coffeeinstitute.org/login')\n",
    "time.sleep(2)"
   ]
  },
  {
   "cell_type": "code",
   "execution_count": 37,
   "id": "a8f22dec",
   "metadata": {},
   "outputs": [],
   "source": [
    "form = driver.find_element(By.XPATH,'//html/body/content[@class=\"scrollable\"]/div[@class=\"container page\"]/div[@class=\"form short\"]/div[@class=\"login panel\"]/form')\n",
    "username = driver.find_element(By.NAME, \"username\")\n",
    "password = driver.find_element(By.NAME, \"password\")\n",
    "time.sleep(2)\n"
   ]
  },
  {
   "cell_type": "code",
   "execution_count": 41,
   "id": "1d4b8fa2",
   "metadata": {},
   "outputs": [],
   "source": [
    "username.send_keys(login_email)\n",
    "password.send_keys(login_password)"
   ]
  },
  {
   "cell_type": "code",
   "execution_count": 44,
   "id": "9985987a",
   "metadata": {},
   "outputs": [],
   "source": [
    "driver.find_element(By.XPATH, \"/html/body/content/div[2]/div/div[1]/form/div[4]/input\").click()\n",
    "time.sleep(2)\n"
   ]
  },
  {
   "cell_type": "code",
   "execution_count": 54,
   "id": "3578722b",
   "metadata": {},
   "outputs": [],
   "source": [
    "driver.get('https://database.coffeeinstitute.org/coffees/arabica')\n",
    "time.sleep(2)"
   ]
  },
  {
   "cell_type": "code",
   "execution_count": 53,
   "id": "17742616",
   "metadata": {},
   "outputs": [
    {
     "ename": "AttributeError",
     "evalue": "'list' object has no attribute 'click'",
     "output_type": "error",
     "traceback": [
      "\u001b[0;31m---------------------------------------------------------------------------\u001b[0m",
      "\u001b[0;31mAttributeError\u001b[0m                            Traceback (most recent call last)",
      "\u001b[0;32m/var/folders/s9/swv_w1zd6cdfjmwpdh_tnv1r0000gn/T/ipykernel_91283/979142541.py\u001b[0m in \u001b[0;36m<module>\u001b[0;34m\u001b[0m\n\u001b[0;32m----> 1\u001b[0;31m \u001b[0mdriver\u001b[0m\u001b[0;34m.\u001b[0m\u001b[0mfind_elements\u001b[0m\u001b[0;34m(\u001b[0m\u001b[0mBy\u001b[0m\u001b[0;34m.\u001b[0m\u001b[0mCLASS_NAME\u001b[0m\u001b[0;34m,\u001b[0m\u001b[0;34m'coffees'\u001b[0m\u001b[0;34m)\u001b[0m\u001b[0;34m.\u001b[0m\u001b[0mclick\u001b[0m\u001b[0;34m(\u001b[0m\u001b[0;34m)\u001b[0m\u001b[0;34m\u001b[0m\u001b[0;34m\u001b[0m\u001b[0m\n\u001b[0m\u001b[1;32m      2\u001b[0m \u001b[0mtime\u001b[0m\u001b[0;34m.\u001b[0m\u001b[0msleep\u001b[0m\u001b[0;34m(\u001b[0m\u001b[0;36m3\u001b[0m\u001b[0;34m)\u001b[0m\u001b[0;34m\u001b[0m\u001b[0;34m\u001b[0m\u001b[0m\n\u001b[1;32m      3\u001b[0m \u001b[0mdriver\u001b[0m\u001b[0;34m.\u001b[0m\u001b[0mfind_element\u001b[0m\u001b[0;34m(\u001b[0m\u001b[0mBy\u001b[0m\u001b[0;34m.\u001b[0m\u001b[0mLINK_TEXT\u001b[0m\u001b[0;34m,\u001b[0m\u001b[0;34m'Arabica Coffees'\u001b[0m\u001b[0;34m)\u001b[0m\u001b[0;34m.\u001b[0m\u001b[0mclick\u001b[0m\u001b[0;34m(\u001b[0m\u001b[0;34m)\u001b[0m\u001b[0;34m\u001b[0m\u001b[0;34m\u001b[0m\u001b[0m\n\u001b[1;32m      4\u001b[0m \u001b[0mtime\u001b[0m\u001b[0;34m.\u001b[0m\u001b[0msleep\u001b[0m\u001b[0;34m(\u001b[0m\u001b[0;36m3\u001b[0m\u001b[0;34m)\u001b[0m\u001b[0;34m\u001b[0m\u001b[0;34m\u001b[0m\u001b[0m\n",
      "\u001b[0;31mAttributeError\u001b[0m: 'list' object has no attribute 'click'"
     ]
    }
   ],
   "source": [
    "driver.find_elements(By.CLASS_NAME,'coffees').click()\n",
    "time.sleep(3)\n",
    "driver.find_element(By.LINK_TEXT,'Arabica Coffees').click()\n",
    "time.sleep(3)"
   ]
  },
  {
   "cell_type": "code",
   "execution_count": 151,
   "id": "61356ddb",
   "metadata": {},
   "outputs": [
    {
     "name": "stdout",
     "output_type": "stream",
     "text": [
      "page 0\n"
     ]
    },
    {
     "ename": "TypeError",
     "evalue": "'WebElement' object is not subscriptable",
     "output_type": "error",
     "traceback": [
      "\u001b[0;31m---------------------------------------------------------------------------\u001b[0m",
      "\u001b[0;31mTypeError\u001b[0m                                 Traceback (most recent call last)",
      "\u001b[0;32m/var/folders/s9/swv_w1zd6cdfjmwpdh_tnv1r0000gn/T/ipykernel_91283/1513434891.py\u001b[0m in \u001b[0;36m<module>\u001b[0;34m\u001b[0m\n\u001b[1;32m     20\u001b[0m         \u001b[0;31m# select the cell to click through to the next coffee-data page\u001b[0m\u001b[0;34m\u001b[0m\u001b[0;34m\u001b[0m\u001b[0m\n\u001b[1;32m     21\u001b[0m         \u001b[0mtime\u001b[0m\u001b[0;34m.\u001b[0m\u001b[0msleep\u001b[0m\u001b[0;34m(\u001b[0m\u001b[0;36m2\u001b[0m\u001b[0;34m)\u001b[0m \u001b[0;31m# this next line errors out sometimes, maybe it needs more of a time buffer\u001b[0m\u001b[0;34m\u001b[0m\u001b[0;34m\u001b[0m\u001b[0m\n\u001b[0;32m---> 22\u001b[0;31m         \u001b[0mtest_page\u001b[0m\u001b[0;34m=\u001b[0m\u001b[0mdriver\u001b[0m\u001b[0;34m.\u001b[0m\u001b[0mfind_element\u001b[0m\u001b[0;34m(\u001b[0m\u001b[0mBy\u001b[0m\u001b[0;34m.\u001b[0m\u001b[0mXPATH\u001b[0m\u001b[0;34m,\u001b[0m\u001b[0;34m'//td'\u001b[0m\u001b[0;34m)\u001b[0m\u001b[0;34m[\u001b[0m\u001b[0mi\u001b[0m\u001b[0;34m]\u001b[0m\u001b[0;34m.\u001b[0m\u001b[0mclick\u001b[0m\u001b[0;34m(\u001b[0m\u001b[0;34m)\u001b[0m\u001b[0;34m\u001b[0m\u001b[0;34m\u001b[0m\u001b[0m\n\u001b[0m\u001b[1;32m     23\u001b[0m         \u001b[0mtime\u001b[0m\u001b[0;34m.\u001b[0m\u001b[0msleep\u001b[0m\u001b[0;34m(\u001b[0m\u001b[0;36m2\u001b[0m\u001b[0;34m)\u001b[0m\u001b[0;34m\u001b[0m\u001b[0;34m\u001b[0m\u001b[0m\n\u001b[1;32m     24\u001b[0m         \u001b[0mprint\u001b[0m\u001b[0;34m(\u001b[0m\u001b[0;34m'rows: '\u001b[0m\u001b[0;34m)\u001b[0m\u001b[0;34m\u001b[0m\u001b[0;34m\u001b[0m\u001b[0m\n",
      "\u001b[0;31mTypeError\u001b[0m: 'WebElement' object is not subscriptable"
     ]
    }
   ],
   "source": [
    "page = 0\n",
    "coffeenum = 0\n",
    "\n",
    "while True:\n",
    "    print('page {}'.format(page))\n",
    "\n",
    "    # 50 rows in these tables * 7 columns per row = 350 cells. Every 7th cell clicks through to that coffee's data page\n",
    "    for i in range(1,351,7):\n",
    "        time.sleep(4)\n",
    "        \n",
    "        # paginate back to the desired page number\n",
    "        # don't think there's a way around this - the back() option goes too far back\n",
    "        # some page numbers aren't available in the ui, but 'next' always is unless you've reached the end \n",
    "        for p_num in range(page):\n",
    "            page_buttons = driver.find_elements(By.CLASS_NAME, 'paginate_button')\n",
    "            page_buttons[-1].click() # the 'next' button\n",
    "            time.sleep(1)\n",
    "            page_buttons = driver.find_elements(By.CLASS_NAME, 'paginate_button')\n",
    "\n",
    "        # select the cell to click through to the next coffee-data page\n",
    "        time.sleep(2) # this next line errors out sometimes, maybe it needs more of a time buffer \n",
    "        test_page=driver.find_element(By.XPATH,'//td')[i].click()\n",
    "        time.sleep(2)\n",
    "        print('rows: ')\n",
    "        print(len(driver.find_element(By.XPATH,\"//tr\")))\n",
    "        tables = driver.find_elements(By.TAG_NAME, \"table\")\n",
    "\n",
    "        # loop over all coffee reports on the page, processing each one and writing to csv\n",
    "        print('tables: ')\n",
    "        print(len(tables))\n",
    "        j = 0\n",
    "        for tab in tables:\n",
    "            try:\n",
    "                t = BeautifulSoup(tab.get_attribute('outerHTML'), \"html.parser\")\n",
    "                #print(t)\n",
    "                df = pd.read_html(str(t))\n",
    "                name = 'coffee_{}_table_{}.csv'.format(coffeenum,j)\n",
    "                df[0].to_csv(name)\n",
    "                print(name)\n",
    "            except:\n",
    "                # only one's needed but I want this to be onoxious since it's the only way I'm logging this currently\n",
    "                print('ERROR: {} failed'.format(name))\n",
    "                print('ERROR: {} failed'.format(name))\n",
    "                print('ERROR: {} failed'.format(name))\n",
    "                print('ERROR: {} failed'.format(name))\n",
    "            j += 1\n",
    "\n",
    "        # go back to page with all other coffee resultsabs\n",
    "        #driver.back() # note: this isn't working as expected, manually going back to pg 1 via url instead\n",
    "        driver.get('https://database.coffeeinstitute.org/coffees/arabica')\n",
    "        time.sleep(2)\n",
    "        coffeenum += 1\n",
    "\n",
    "    page += 1\n",
    "    if page == 27:\n",
    "        break\n"
   ]
  },
  {
   "cell_type": "code",
   "execution_count": 63,
   "id": "c97b0cab",
   "metadata": {},
   "outputs": [
    {
     "name": "stdout",
     "output_type": "stream",
     "text": [
      "tables: \n",
      "5\n",
      "coffee_0_table_0.csv\n",
      "coffee_0_table_1.csv\n",
      "coffee_0_table_2.csv\n",
      "coffee_0_table_3.csv\n",
      "coffee_0_table_4.csv\n"
     ]
    }
   ],
   "source": [
    "coffeenum = 0\n",
    "# print('rows: ')\n",
    "# print(len(driver.find_element(By.XPATH,\"//tr\")))\n",
    "tables = driver.find_elements(By.TAG_NAME, \"table\")\n",
    "\n",
    "# loop over all coffee reports on the page, processing each one and writing to csv\n",
    "print('tables: ')\n",
    "print(len(tables))\n",
    "j = 0\n",
    "for tab in tables:\n",
    "    try:\n",
    "        t = BeautifulSoup(tab.get_attribute('outerHTML'), \"html.parser\")\n",
    "        #print(t)\n",
    "        df = pd.read_html(str(t))\n",
    "        name = 'coffee_{}_table_{}.csv'.format(coffeenum,j)\n",
    "        df[0].to_csv(name)\n",
    "        print(name)\n",
    "    except:\n",
    "        # only one's needed but I want this to be onoxious since it's the only way I'm logging this currently\n",
    "        print('ERROR: {} failed'.format(name))\n",
    "        print('ERROR: {} failed'.format(name))\n",
    "        print('ERROR: {} failed'.format(name))\n",
    "        print('ERROR: {} failed'.format(name))\n",
    "    j += 1\n",
    "\n",
    "# go back to page with all other coffee resultsabs\n",
    "#driver.back() # note: this isn't working as expected, manually going back to pg 1 via url instead\n",
    "driver.get('https://database.coffeeinstitute.org/coffees/arabica')\n",
    "time.sleep(2)\n",
    "coffeenum += 1"
   ]
  },
  {
   "cell_type": "code",
   "execution_count": 59,
   "id": "c76f1759",
   "metadata": {},
   "outputs": [],
   "source": [
    "tables = driver.find_elements(By.TAG_NAME, \"table\")\n",
    "# t = BeautifulSoup(tab.get_attribute('outerHTML'), \"html.parser\")\n",
    "# #print(t)\n",
    "# df = pd.read_html(str(t))\n",
    "# name = 'coffee_{}_table_{}.csv'.format(coffeenum,j)\n",
    "# df[0].to_csv(name)\n",
    "# print(name)"
   ]
  },
  {
   "cell_type": "code",
   "execution_count": 186,
   "id": "b31e53da",
   "metadata": {},
   "outputs": [
    {
     "name": "stdout",
     "output_type": "stream",
     "text": [
      "tables: \n",
      "1\n"
     ]
    }
   ],
   "source": [
    "print('tables: ')\n",
    "print(len(tables))"
   ]
  },
  {
   "cell_type": "code",
   "execution_count": 162,
   "id": "9fcfbb64",
   "metadata": {},
   "outputs": [
    {
     "data": {
      "text/plain": [
       "<selenium.webdriver.remote.webelement.WebElement (session=\"7f35af64c964df564187aed77b5de420\", element=\"24be0460-8db4-48c8-8bcb-3485bb0535a4\")>"
      ]
     },
     "execution_count": 162,
     "metadata": {},
     "output_type": "execute_result"
    }
   ],
   "source": [
    "driver.find_element(By.XPATH,\"//tr\")"
   ]
  },
  {
   "cell_type": "code",
   "execution_count": 161,
   "id": "bb1ebd76",
   "metadata": {},
   "outputs": [
    {
     "data": {
      "text/plain": [
       "<selenium.webdriver.remote.webelement.WebElement (session=\"7f35af64c964df564187aed77b5de420\", element=\"18282ae2-d70b-4d32-a9ad-6b19834d2335\")>"
      ]
     },
     "execution_count": 161,
     "metadata": {},
     "output_type": "execute_result"
    }
   ],
   "source": [
    "driver.find_element(By.XPATH,'//tr//td')"
   ]
  },
  {
   "cell_type": "code",
   "execution_count": 164,
   "id": "824bb87e",
   "metadata": {},
   "outputs": [],
   "source": [
    "driver.find_element(By.LINK_TEXT, '#498801').click()"
   ]
  },
  {
   "cell_type": "code",
   "execution_count": 178,
   "id": "2f0c722d",
   "metadata": {},
   "outputs": [],
   "source": [
    "url = 'https://database.coffeeinstitute.org/coffees/arabica'\n",
    "res = requests.get(url)"
   ]
  },
  {
   "cell_type": "code",
   "execution_count": 179,
   "id": "cfe59f73",
   "metadata": {},
   "outputs": [
    {
     "data": {
      "text/plain": [
       "200"
      ]
     },
     "execution_count": 179,
     "metadata": {},
     "output_type": "execute_result"
    }
   ],
   "source": [
    "res.status_code"
   ]
  },
  {
   "cell_type": "code",
   "execution_count": null,
   "id": "e4155517",
   "metadata": {},
   "outputs": [],
   "source": []
  },
  {
   "cell_type": "code",
   "execution_count": 180,
   "id": "06240ca0",
   "metadata": {},
   "outputs": [
    {
     "name": "stdout",
     "output_type": "stream",
     "text": [
      "('<!DOCTYPE html>\\n'\n",
      " '\\t<!--[if lt IE 7]>      <html class=\"no-js lt-ie9 lt-ie8 lt-ie7\"> '\n",
      " '<![endif]-->\\n'\n",
      " '\\t<!--[if IE 7]>         <html class=\"no-js lt-ie9 lt-ie8\"> <![endif]-->\\n'\n",
      " '\\t<!--[if IE 8]>         <html class=\"no-js lt-ie9\"> <![endif]-->\\n'\n",
      " '\\t<!--[if gt IE 8]><!--> <html class=\"no-js\"> <!--<![endif]-->\\n'\n",
      " '\\t\\t<head>\\n'\n",
      " '\\t    <meta charset=\"utf-8\">\\n'\n",
      " '\\t    <meta http-equiv=\"X-UA-Compatible\" content=\"IE=edge\">\\n'\n",
      " '\\t    \\n'\n",
      " '\\t    <base href=\"https://database.coffeeinstitute.org/\">\\n'\n",
      " '\\t\\n'\n",
      " '\\t    <title>Home - Q Coffee System</title>\\n'\n",
      " '\\t    <meta name=\"description\" content=\"\">\\n'\n",
      " '\\t    <meta name=\"viewport\" content=\"minimal-ui, width=device-width, '\n",
      " 'initial-scale=1, user-scalable=no\">\\n'\n",
      " '\\t    <meta name=\"apple-mobile-web-app-capable\" content=\"yes\" />\\n'\n",
      " '\\t    \\n'\n",
      " '\\t    <link rel=\"apple-touch-icon\" sizes=\"57x57\" '\n",
      " 'href=\"/favicon/apple-touch-icon-57x57.png\">\\n'\n",
      " '\\t\\t<link rel=\"apple-touch-icon\" sizes=\"60x60\" '\n",
      " 'href=\"/favicon/apple-touch-icon-60x60.png\">\\n'\n",
      " '\\t\\t<link rel=\"apple-touch-icon\" sizes=\"72x72\" '\n",
      " 'href=\"/favicon/apple-touch-icon-72x72.png\">\\n'\n",
      " '\\t\\t<link rel=\"apple-touch-icon\" sizes=\"76x76\" '\n",
      " 'href=\"/favicon/apple-touch-icon-76x76.png\">\\n'\n",
      " '\\t\\t<link rel=\"apple-touch-icon\" sizes=\"114x114\" '\n",
      " 'href=\"/favicon/apple-touch-icon-114x114.png\">\\n'\n",
      " '\\t\\t<link rel=\"apple-touch-icon\" sizes=\"120x120\" '\n",
      " 'href=\"/favicon/apple-touch-icon-120x120.png\">\\n'\n",
      " '\\t\\t<link rel=\"apple-touch-icon\" sizes=\"144x144\" '\n",
      " 'href=\"/favicon/apple-touch-icon-144x144.png\">\\n'\n",
      " '\\t\\t<link rel=\"apple-touch-icon\" sizes=\"152x152\" '\n",
      " 'href=\"/favicon/apple-touch-icon-152x152.png\">\\n'\n",
      " '\\t\\t<link rel=\"apple-touch-icon\" sizes=\"180x180\" '\n",
      " 'href=\"/favicon/apple-touch-icon-180x180.png\">\\n'\n",
      " '\\t\\t<link rel=\"icon\" type=\"image/png\" href=\"/favicon/favicon-32x32.png\" '\n",
      " 'sizes=\"32x32\">\\n'\n",
      " '\\t\\t<link rel=\"icon\" type=\"image/png\" href=\"/favicon/favicon-194x194.png\" '\n",
      " 'sizes=\"194x194\">\\n'\n",
      " '\\t\\t<link rel=\"icon\" type=\"image/png\" href=\"/favicon/favicon-96x96.png\" '\n",
      " 'sizes=\"96x96\">\\n'\n",
      " '\\t\\t<link rel=\"icon\" type=\"image/png\" '\n",
      " 'href=\"/favicon/android-chrome-192x192.png\" sizes=\"192x192\">\\n'\n",
      " '\\t\\t<link rel=\"icon\" type=\"image/png\" href=\"/favicon/favicon-16x16.png\" '\n",
      " 'sizes=\"16x16\">\\n'\n",
      " '\\t\\t<link rel=\"manifest\" href=\"/favicon/manifest.json\">\\n'\n",
      " '\\t\\t<meta name=\"msapplication-TileColor\" content=\"#da532c\">\\n'\n",
      " '\\t\\t<meta name=\"msapplication-TileImage\" '\n",
      " 'content=\"/favicon/mstile-144x144.png\">\\n'\n",
      " '\\t\\t<meta name=\"theme-color\" content=\"#ffffff\">\\n'\n",
      " '\\t    \\n'\n",
      " '\\t    <meta name=\"author\" content=\"Coffee Quality Institute\">\\n'\n",
      " '\\t    <meta name=\"author\" content=\"Eximware Inc.\">\\n'\n",
      " '\\t    <meta name=\"signet:authors\" content=\"Elemodo Software\">\\n'\n",
      " '\\t\\t<meta name=\"signet:links\" '\n",
      " 'content=\"https://database.coffeeinstitute.org/\">\\n'\n",
      " '\\t    \\n'\n",
      " '\\t    <link rel=\"stylesheet\" href=\"css/style.1672176664.css\" '\n",
      " 'type=\"text/css\">\\n'\n",
      " '\\t    <script src=\"js/ckeditor/ckeditor.js\"></script>\\n'\n",
      " '\\t</head>\\n'\n",
      " '\\t\\n'\n",
      " '\\t<body>\\n'\n",
      " '\\t\\n'\n",
      " '\\t    <!--[if lt IE 7]>\\n'\n",
      " '\\t    \\t<p class=\"browser\">You are using an <strong>outdated</strong> '\n",
      " 'browser. Please <a href=\"http://outdatedbrowser.com/\">upgrade your '\n",
      " 'browser</a> to improve your experience.</p>\\n'\n",
      " '\\t    <![endif]-->\\n'\n",
      " '\\t    \\n'\n",
      " '\\t    <header>\\n'\n",
      " '\\t    \\t<div class=\"container\">\\n'\n",
      " '\\t\\t    \\t<a href=\"/\"><div id=\"logo\">Q Coffee</div></a>\\n'\n",
      " '\\t\\t\\t\\t<nav id=\"user\"></nav>\\n'\n",
      " '\\t    \\t</div>\\n'\n",
      " '\\t\\t    <nav id=\"main\"></nav>\\n'\n",
      " '\\t\\t    <div class=\"container alert\" id=\"pop_up_alerts\"></div>\\n'\n",
      " '\\t    </header>\\n'\n",
      " '\\t    \\n'\n",
      " '\\t\\t<content class=\"load scrollable\"></content>\\n'\n",
      " '\\t\\t\\n'\n",
      " '\\t\\t<footer>\\n'\n",
      " '\\t    \\t<nav>\\n'\n",
      " '\\t\\t    \\t<a href=\"/\">Home</a>\\n'\n",
      " '\\t\\t    \\t<a href=\"/about\">About</a>\\n'\n",
      " '\\t\\t    \\t<a href=\"/faqs\">FAQs</a>\\n'\n",
      " '\\t\\t    \\t<a href=\"/terms\">Terms &amp; Conditions</a>\\n'\n",
      " '\\t\\t    \\t<a target=\"_blank\" href=\"http://www.coffeeinstitute.org\">CQI '\n",
      " 'Website</a>\\n'\n",
      " '\\t    \\t</nav>\\n'\n",
      " '\\t    \\t<copyright>&copy; 2014 - 2022 Coffee Quality Institute, CQI is a '\n",
      " '501(c)3 nonprofit organization</copyright>\\n'\n",
      " '\\t    \\t\\n'\n",
      " '\\t    \\t<div style=\"text-align: center; line-height: 10px;\" '\n",
      " 'id=\"powered_by\">\\n'\n",
      " '\\t\\t\\t\\t<a '\n",
      " 'href=\"https://www.eximware.com/?utm_source=CQI&utm_medium=referral&utm_campaign=CQI_Q_Database\" '\n",
      " 'target=\"_blank\">\\n'\n",
      " '\\t\\t\\t\\t\\t<img style=\"height: 10px\" '\n",
      " 'src=\"https://database.coffeeinstitute.org/api/s3proxy/get/coffee/i/powered_by_eximware194.png\" '\n",
      " 'alt=\"Powered by Eximware\" />\\n'\n",
      " '\\t\\t\\t\\t</a>\\n'\n",
      " '\\t\\t\\t</div>\\n'\n",
      " '\\t\\t</footer>\\n'\n",
      " '\\n'\n",
      " '\\t\\t<script>\\n'\n",
      " '\\t\\t\\t'\n",
      " \"(function(i,s,o,g,r,a,m){i['GoogleAnalyticsObject']=r;i[r]=i[r]||function(){\\n\"\n",
      " '\\t\\t\\t(i[r].q=i[r].q||[]).push(arguments)},i[r].l=1*new '\n",
      " 'Date();a=s.createElement(o),\\n'\n",
      " '\\t\\t\\t'\n",
      " 'm=s.getElementsByTagName(o)[0];a.async=1;a.src=g;m.parentNode.insertBefore(a,m)\\n'\n",
      " '\\t\\t\\t'\n",
      " \"})(window,document,'script','//www.google-analytics.com/analytics.js','ga');\\n\"\n",
      " \"\\t\\t\\tga('create', 'UA-19197750-2', 'auto');\\n\"\n",
      " \"\\t\\t\\tga('require', 'linkid');\\n\"\n",
      " \"\\t\\t\\tga('send', 'pageview');\\n\"\n",
      " '\\t\\t</script>\\n'\n",
      " '\\t    \\n'\n",
      " '\\t    <script data-main=\"js/script.1672176664\" '\n",
      " 'src=\"js/build/r.js\"></script>\\n'\n",
      " '\\t    <form action=\"\" id=\"downloadForm\" target=\"_blank\" '\n",
      " 'method=\"POST\"></form>\\n'\n",
      " '\\t</body>\\n'\n",
      " '</html>\\n')\n"
     ]
    }
   ],
   "source": [
    "pprint(res.text)"
   ]
  },
  {
   "cell_type": "code",
   "execution_count": 181,
   "id": "e0b09589",
   "metadata": {},
   "outputs": [],
   "source": [
    "table = soup.find('table', {'id': 'directory'})"
   ]
  },
  {
   "cell_type": "code",
   "execution_count": 182,
   "id": "3da63f47",
   "metadata": {},
   "outputs": [
    {
     "ename": "AttributeError",
     "evalue": "'NoneType' object has no attribute 'find'",
     "output_type": "error",
     "traceback": [
      "\u001b[0;31m---------------------------------------------------------------------------\u001b[0m",
      "\u001b[0;31mAttributeError\u001b[0m                            Traceback (most recent call last)",
      "\u001b[0;32m/var/folders/s9/swv_w1zd6cdfjmwpdh_tnv1r0000gn/T/ipykernel_91283/2457536352.py\u001b[0m in \u001b[0;36m<module>\u001b[0;34m\u001b[0m\n\u001b[0;32m----> 1\u001b[0;31m \u001b[0;32mfor\u001b[0m \u001b[0mrow\u001b[0m \u001b[0;32min\u001b[0m \u001b[0mtable\u001b[0m\u001b[0;34m.\u001b[0m\u001b[0mfind\u001b[0m\u001b[0;34m(\u001b[0m\u001b[0;34m'tbody'\u001b[0m\u001b[0;34m)\u001b[0m\u001b[0;34m.\u001b[0m\u001b[0mfind_all\u001b[0m\u001b[0;34m(\u001b[0m\u001b[0;34m'tr'\u001b[0m\u001b[0;34m)\u001b[0m\u001b[0;34m:\u001b[0m\u001b[0;34m\u001b[0m\u001b[0;34m\u001b[0m\u001b[0m\n\u001b[0m\u001b[1;32m      2\u001b[0m     \u001b[0mrow_header\u001b[0m \u001b[0;34m=\u001b[0m \u001b[0mrow\u001b[0m\u001b[0;34m.\u001b[0m\u001b[0mth\u001b[0m\u001b[0;34m.\u001b[0m\u001b[0mget_text\u001b[0m\u001b[0;34m(\u001b[0m\u001b[0;34m)\u001b[0m\u001b[0;34m\u001b[0m\u001b[0;34m\u001b[0m\u001b[0m\n\u001b[1;32m      3\u001b[0m     \u001b[0mrow_cell\u001b[0m \u001b[0;34m=\u001b[0m \u001b[0mrow\u001b[0m\u001b[0;34m.\u001b[0m\u001b[0mtd\u001b[0m\u001b[0;34m.\u001b[0m\u001b[0mget_text\u001b[0m\u001b[0;34m(\u001b[0m\u001b[0;34m)\u001b[0m\u001b[0;34m\u001b[0m\u001b[0;34m\u001b[0m\u001b[0m\n\u001b[1;32m      4\u001b[0m     \u001b[0mresult\u001b[0m\u001b[0;34m[\u001b[0m\u001b[0mrow_header\u001b[0m\u001b[0;34m]\u001b[0m \u001b[0;34m=\u001b[0m \u001b[0mrow_cell\u001b[0m\u001b[0;34m\u001b[0m\u001b[0;34m\u001b[0m\u001b[0m\n",
      "\u001b[0;31mAttributeError\u001b[0m: 'NoneType' object has no attribute 'find'"
     ]
    }
   ],
   "source": [
    "for row in table.find('tbody').find_all('tr'):\n",
    "    row_header = row.th.get_text()\n",
    "    row_cell = row.td.get_text()\n",
    "    result[row_header] = row_cell"
   ]
  },
  {
   "cell_type": "code",
   "execution_count": 183,
   "id": "84ca698b",
   "metadata": {},
   "outputs": [],
   "source": [
    "tables = driver.find_elements(By.TAG_NAME, \"table\")"
   ]
  },
  {
   "cell_type": "code",
   "execution_count": 184,
   "id": "760de8eb",
   "metadata": {},
   "outputs": [
    {
     "data": {
      "text/plain": [
       "[<selenium.webdriver.remote.webelement.WebElement (session=\"7f35af64c964df564187aed77b5de420\", element=\"421ada9d-d865-42c0-af03-b7977d09fe0e\")>]"
      ]
     },
     "execution_count": 184,
     "metadata": {},
     "output_type": "execute_result"
    }
   ],
   "source": [
    "tables\n"
   ]
  },
  {
   "cell_type": "code",
   "execution_count": 185,
   "id": "ab248da0",
   "metadata": {},
   "outputs": [
    {
     "ename": "AttributeError",
     "evalue": "'list' object has no attribute 'get_attribute'",
     "output_type": "error",
     "traceback": [
      "\u001b[0;31m---------------------------------------------------------------------------\u001b[0m",
      "\u001b[0;31mAttributeError\u001b[0m                            Traceback (most recent call last)",
      "\u001b[0;32m/var/folders/s9/swv_w1zd6cdfjmwpdh_tnv1r0000gn/T/ipykernel_91283/1062028314.py\u001b[0m in \u001b[0;36m<module>\u001b[0;34m\u001b[0m\n\u001b[0;32m----> 1\u001b[0;31m \u001b[0mt\u001b[0m \u001b[0;34m=\u001b[0m \u001b[0mBeautifulSoup\u001b[0m\u001b[0;34m(\u001b[0m\u001b[0mtables\u001b[0m\u001b[0;34m.\u001b[0m\u001b[0mget_attribute\u001b[0m\u001b[0;34m(\u001b[0m\u001b[0;34m'outerHTML'\u001b[0m\u001b[0;34m)\u001b[0m\u001b[0;34m,\u001b[0m \u001b[0;34m\"html.parser\"\u001b[0m\u001b[0;34m)\u001b[0m\u001b[0;34m\u001b[0m\u001b[0;34m\u001b[0m\u001b[0m\n\u001b[0m",
      "\u001b[0;31mAttributeError\u001b[0m: 'list' object has no attribute 'get_attribute'"
     ]
    }
   ],
   "source": [
    "t = BeautifulSoup(tables.get_attribute('outerHTML'), \"html.parser\")"
   ]
  },
  {
   "cell_type": "code",
   "execution_count": 189,
   "id": "b3b1e012",
   "metadata": {},
   "outputs": [],
   "source": [
    "def download_page(url):\n",
    "    response = requests.get(url)\n",
    "    response.raise_for_status()\n",
    "    return response.text\n",
    "def main(url):\n",
    "    content = download_page(url)\n",
    "    soup = BeautifulSoup(content, 'html.parser')\n",
    "    result = {}\n",
    "    for row in soup.table.find_all('tr'):\n",
    "        row_header = row.th.get_text()\n",
    "        row_cell = row.td.get_text()\n",
    "        result[row_header] = row_cell\n",
    "    with open('book_table.json', 'w') as storage_file:\n",
    "        storage_file.write(json.dumps(result))"
   ]
  },
  {
   "cell_type": "code",
   "execution_count": 190,
   "id": "e3321339",
   "metadata": {},
   "outputs": [
    {
     "ename": "AttributeError",
     "evalue": "'NoneType' object has no attribute 'find_all'",
     "output_type": "error",
     "traceback": [
      "\u001b[0;31m---------------------------------------------------------------------------\u001b[0m",
      "\u001b[0;31mAttributeError\u001b[0m                            Traceback (most recent call last)",
      "\u001b[0;32m/var/folders/s9/swv_w1zd6cdfjmwpdh_tnv1r0000gn/T/ipykernel_91283/3774826363.py\u001b[0m in \u001b[0;36m<module>\u001b[0;34m\u001b[0m\n\u001b[0;32m----> 1\u001b[0;31m \u001b[0mmain\u001b[0m\u001b[0;34m(\u001b[0m\u001b[0murl\u001b[0m\u001b[0;34m)\u001b[0m\u001b[0;34m\u001b[0m\u001b[0;34m\u001b[0m\u001b[0m\n\u001b[0m",
      "\u001b[0;32m/var/folders/s9/swv_w1zd6cdfjmwpdh_tnv1r0000gn/T/ipykernel_91283/291385506.py\u001b[0m in \u001b[0;36mmain\u001b[0;34m(url)\u001b[0m\n\u001b[1;32m      7\u001b[0m     \u001b[0msoup\u001b[0m \u001b[0;34m=\u001b[0m \u001b[0mBeautifulSoup\u001b[0m\u001b[0;34m(\u001b[0m\u001b[0mcontent\u001b[0m\u001b[0;34m,\u001b[0m \u001b[0;34m'html.parser'\u001b[0m\u001b[0;34m)\u001b[0m\u001b[0;34m\u001b[0m\u001b[0;34m\u001b[0m\u001b[0m\n\u001b[1;32m      8\u001b[0m     \u001b[0mresult\u001b[0m \u001b[0;34m=\u001b[0m \u001b[0;34m{\u001b[0m\u001b[0;34m}\u001b[0m\u001b[0;34m\u001b[0m\u001b[0;34m\u001b[0m\u001b[0m\n\u001b[0;32m----> 9\u001b[0;31m     \u001b[0;32mfor\u001b[0m \u001b[0mrow\u001b[0m \u001b[0;32min\u001b[0m \u001b[0msoup\u001b[0m\u001b[0;34m.\u001b[0m\u001b[0mtable\u001b[0m\u001b[0;34m.\u001b[0m\u001b[0mfind_all\u001b[0m\u001b[0;34m(\u001b[0m\u001b[0;34m'tr'\u001b[0m\u001b[0;34m)\u001b[0m\u001b[0;34m:\u001b[0m\u001b[0;34m\u001b[0m\u001b[0;34m\u001b[0m\u001b[0m\n\u001b[0m\u001b[1;32m     10\u001b[0m         \u001b[0mrow_header\u001b[0m \u001b[0;34m=\u001b[0m \u001b[0mrow\u001b[0m\u001b[0;34m.\u001b[0m\u001b[0mth\u001b[0m\u001b[0;34m.\u001b[0m\u001b[0mget_text\u001b[0m\u001b[0;34m(\u001b[0m\u001b[0;34m)\u001b[0m\u001b[0;34m\u001b[0m\u001b[0;34m\u001b[0m\u001b[0m\n\u001b[1;32m     11\u001b[0m         \u001b[0mrow_cell\u001b[0m \u001b[0;34m=\u001b[0m \u001b[0mrow\u001b[0m\u001b[0;34m.\u001b[0m\u001b[0mtd\u001b[0m\u001b[0;34m.\u001b[0m\u001b[0mget_text\u001b[0m\u001b[0;34m(\u001b[0m\u001b[0;34m)\u001b[0m\u001b[0;34m\u001b[0m\u001b[0;34m\u001b[0m\u001b[0m\n",
      "\u001b[0;31mAttributeError\u001b[0m: 'NoneType' object has no attribute 'find_all'"
     ]
    }
   ],
   "source": [
    "main(url)"
   ]
  },
  {
   "cell_type": "code",
   "execution_count": null,
   "id": "07f2a699",
   "metadata": {},
   "outputs": [],
   "source": []
  }
 ],
 "metadata": {
  "kernelspec": {
   "display_name": "Python 3 (ipykernel)",
   "language": "python",
   "name": "python3"
  },
  "language_info": {
   "codemirror_mode": {
    "name": "ipython",
    "version": 3
   },
   "file_extension": ".py",
   "mimetype": "text/x-python",
   "name": "python",
   "nbconvert_exporter": "python",
   "pygments_lexer": "ipython3",
   "version": "3.9.7"
  }
 },
 "nbformat": 4,
 "nbformat_minor": 5
}
