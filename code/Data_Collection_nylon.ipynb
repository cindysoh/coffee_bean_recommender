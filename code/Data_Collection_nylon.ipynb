{
 "cells": [
  {
   "cell_type": "code",
   "execution_count": 32,
   "id": "9c5fb501",
   "metadata": {},
   "outputs": [],
   "source": [
    "from selenium import webdriver\n",
    "from webdriver_manager.chrome import ChromeDriverManager\n",
    "from selenium.webdriver.common.by import By\n",
    "from bs4 import BeautifulSoup\n",
    "import pandas as pd\n",
    "import time\n",
    "import numpy as np\n",
    "import requests\n",
    "from bs4 import BeautifulSoup\n",
    "from pprint import pprint\n",
    "import re"
   ]
  },
  {
   "cell_type": "code",
   "execution_count": 2,
   "id": "ff467936",
   "metadata": {},
   "outputs": [
    {
     "name": "stderr",
     "output_type": "stream",
     "text": [
      "[WDM] - Downloading: 100%|█████████████████| 8.82M/8.82M [00:00<00:00, 25.4MB/s]\n",
      "/var/folders/s9/swv_w1zd6cdfjmwpdh_tnv1r0000gn/T/ipykernel_92833/4070366302.py:1: DeprecationWarning: executable_path has been deprecated, please pass in a Service object\n",
      "  driver = webdriver.Chrome(ChromeDriverManager().install())\n"
     ]
    }
   ],
   "source": [
    "driver = webdriver.Chrome(ChromeDriverManager().install())\n",
    "time.sleep(2)"
   ]
  },
  {
   "cell_type": "code",
   "execution_count": 3,
   "id": "bc01705e",
   "metadata": {},
   "outputs": [],
   "source": [
    "driver.get('https://nylon.coffee/shop')\n",
    "time.sleep(2)"
   ]
  },
  {
   "cell_type": "code",
   "execution_count": 7,
   "id": "6be0fc23",
   "metadata": {},
   "outputs": [
    {
     "ename": "AttributeError",
     "evalue": "'list' object has no attribute 'click'",
     "output_type": "error",
     "traceback": [
      "\u001b[0;31m---------------------------------------------------------------------------\u001b[0m",
      "\u001b[0;31mAttributeError\u001b[0m                            Traceback (most recent call last)",
      "\u001b[0;32m/var/folders/s9/swv_w1zd6cdfjmwpdh_tnv1r0000gn/T/ipykernel_92833/1275888298.py\u001b[0m in \u001b[0;36m<module>\u001b[0;34m\u001b[0m\n\u001b[0;32m----> 1\u001b[0;31m \u001b[0mdriver\u001b[0m\u001b[0;34m.\u001b[0m\u001b[0mfind_elements\u001b[0m\u001b[0;34m(\u001b[0m\u001b[0mBy\u001b[0m\u001b[0;34m.\u001b[0m\u001b[0mID\u001b[0m\u001b[0;34m,\u001b[0m \u001b[0;34m'thumb-honduras-el-puente'\u001b[0m\u001b[0;34m)\u001b[0m\u001b[0;34m.\u001b[0m\u001b[0mclick\u001b[0m\u001b[0;34m(\u001b[0m\u001b[0;34m)\u001b[0m\u001b[0;34m\u001b[0m\u001b[0;34m\u001b[0m\u001b[0m\n\u001b[0m",
      "\u001b[0;31mAttributeError\u001b[0m: 'list' object has no attribute 'click'"
     ]
    }
   ],
   "source": [
    "driver.find_elements(By.ID, 'thumb-honduras-el-puente').click()"
   ]
  },
  {
   "cell_type": "code",
   "execution_count": null,
   "id": "b5cc56dc",
   "metadata": {},
   "outputs": [],
   "source": [
    "//*[@id=\"thumb-honduras-el-puente\"]"
   ]
  },
  {
   "cell_type": "code",
   "execution_count": null,
   "id": "d0e6d07c",
   "metadata": {},
   "outputs": [],
   "source": [
    "/html/body/div[5]/div[1]/section/div[2]/div[2]/div/a[1]"
   ]
  },
  {
   "cell_type": "code",
   "execution_count": null,
   "id": "087b83b9",
   "metadata": {},
   "outputs": [],
   "source": [
    "/html/body/div[1]/div[2]/div/main/div[4]/div/div[1]/div[2]/p/a"
   ]
  },
  {
   "cell_type": "code",
   "execution_count": null,
   "id": "50da0020",
   "metadata": {},
   "outputs": [],
   "source": [
    "//*[@id=\"genesis-content\"]/div[4]/div/div[3]/div[1]/strong/a"
   ]
  },
  {
   "cell_type": "code",
   "execution_count": null,
   "id": "71848127",
   "metadata": {},
   "outputs": [],
   "source": [
    "/html/body/div[1]/div[2]/div/main/div[4]/div/div[3]/div[1]/strong/a"
   ]
  },
  {
   "cell_type": "code",
   "execution_count": 8,
   "id": "8bf26d05",
   "metadata": {},
   "outputs": [],
   "source": [
    "url = 'https://nylon.coffee/shop'\n",
    "res = requests.get(url)\n",
    "soup = BeautifulSoup(res.content, 'lxml')"
   ]
  },
  {
   "cell_type": "code",
   "execution_count": 19,
   "id": "17004df3",
   "metadata": {
    "scrolled": true
   },
   "outputs": [
    {
     "data": {
      "text/plain": [
       "[{'name': '\\n\\n\\n\\n\\n\\n\\n\\n\\n\\n\\nHonduras El Puente\\n\\nfrom SGD\\xa024.00\\n\\n\\n\\n\\n\\n',\n",
       "  'href': '/shop/honduras-el-puente'},\n",
       " {'name': '\\n\\n\\n\\n\\n\\n\\n\\n\\n\\n\\nNicaragua La Huerta\\n\\nfrom SGD\\xa023.50\\n\\n\\n\\n\\n\\n',\n",
       "  'href': '/shop/nicaragua-el-manguito-ta2rj'},\n",
       " {'name': '\\n\\n\\n\\n\\n\\n\\n\\n\\n\\n\\nEl Salvador Los Pirineos\\n\\nfrom SGD\\xa023.50\\n\\n\\n\\n\\n\\n',\n",
       "  'href': '/shop/el-salvador-los-pirineos-honey'},\n",
       " {'name': '\\n\\n\\n\\n\\n\\n\\n\\n\\n\\n\\nEthiopia Benti Nenka\\n\\nfrom SGD\\xa029.00\\n\\n\\n\\n\\n\\n',\n",
       "  'href': '/shop/ethiopia-benti-nenka'},\n",
       " {'name': '\\n\\n\\n\\n\\n\\n\\n\\n\\n\\n\\nNicaragua Finca Libre\\n\\nSGD\\xa022.00\\n\\n\\n\\n\\n',\n",
       "  'href': '/shop/nicaragua-finca-libre-filter'},\n",
       " {'name': '\\n\\n\\n\\n\\n\\n\\n\\n\\n\\n\\nGuatemala Guatalon\\n\\nSGD\\xa022.50\\n\\n\\n\\n\\n',\n",
       "  'href': '/shop/guatemala-guatalon'},\n",
       " {'name': '\\n\\n\\n\\n\\n\\n\\n\\n\\n\\n\\nEthiopia Burtukaana Danche\\n\\nSGD\\xa024.50\\n\\n\\n\\n\\n',\n",
       "  'href': '/shop/ethiopia-burtukaana-danche'},\n",
       " {'name': '\\n\\n\\n\\n\\n\\n\\n\\n\\n\\n\\nUganda Zinule Bulambuli\\n\\nSGD\\xa023.00\\n\\n\\n\\nsold out\\n\\n',\n",
       "  'href': '/shop/uganda-zinule-bulambuli'},\n",
       " {'name': '\\n\\n\\n\\n\\n\\n\\n\\n\\n\\n\\nHonduras El Puente SL28\\n\\nSGD\\xa025.00\\n\\n\\n\\n\\n',\n",
       "  'href': '/shop/honduras-el-puente-sl28'},\n",
       " {'name': '\\n\\n\\n\\n\\n\\n\\n\\n\\n\\n\\nHonduras El Puente Geisha\\n\\nSGD\\xa042.00\\n\\n\\n\\nsold out\\n\\n',\n",
       "  'href': '/shop/honduras-el-puente-geisha'},\n",
       " {'name': '\\n\\n\\n\\n\\n\\n\\n\\n\\n\\n\\nHandy Brew Clever Dripper Set\\n\\nSGD\\xa045.00\\n\\n\\n\\n\\n',\n",
       "  'href': '/shop/handy-brew-clever-dripper'},\n",
       " {'name': '\\n\\n\\n\\n\\n\\n\\n\\n\\n\\n\\nPorlex Mini Ceramic Grinder II\\n\\nfrom SGD\\xa08.00\\n\\n\\n\\n\\n\\n',\n",
       "  'href': '/shop/porlex-mini-ceramic-burr'},\n",
       " {'name': '\\n\\n\\n\\n\\n\\n\\n\\n\\n\\n\\nTIMEMORE Grinder Go\\n\\nSGD\\xa0175.00\\n\\n\\n\\n\\n',\n",
       "  'href': '/shop/timemore-grinder-go'},\n",
       " {'name': '\\n\\n\\n\\n\\n\\n\\n\\n\\n\\n\\nTIMEMORE Black Mirror Weighing Scale\\n\\nSGD\\xa065.00\\n\\n\\n\\n\\n',\n",
       "  'href': '/shop/timemore-black-mirror-coffee-scale'},\n",
       " {'name': '\\n\\n\\n\\n\\n\\n\\n\\n\\n\\n\\nKalita Wave Filter - White\\n\\nfrom SGD\\xa016.00\\n\\n\\n\\n\\n\\n',\n",
       "  'href': '/shop/kalita-wave-filter-paper-white'},\n",
       " {'name': '\\n\\n\\n\\n\\n\\n\\n\\n\\n\\n\\nCafec Abaca Flat Bottom Filter Paper\\n\\nfrom SGD\\xa08.50\\n\\n\\n\\n\\n\\n',\n",
       "  'href': '/shop/cafec-abaca-filter-paper'},\n",
       " {'name': '\\n\\n\\n\\n\\n\\n\\n\\n\\n\\n\\nCafec Abaca Cone Shaped Filter Paper\\n\\nfrom SGD\\xa07.50\\n\\n\\n\\n\\n\\n',\n",
       "  'href': '/shop/cafec-abaca-cone-shaped-filter-paper'},\n",
       " {'name': '\\n\\n\\n\\n\\n\\n\\n\\n\\n\\n\\nKinto Sepia Server\\n\\nSGD\\xa046.00\\n\\n\\n\\n\\n',\n",
       "  'href': '/shop/kinto-sepia-coffee-server'},\n",
       " {'name': '\\n\\n\\n\\n\\n\\n\\n\\n\\n\\n\\nKinto Coffee Server\\n\\nfrom SGD\\xa021.00\\n\\n\\n\\n\\n\\n',\n",
       "  'href': '/shop/kinto-coffee-server'},\n",
       " {'name': '\\n\\n\\n\\n\\n\\n\\n\\n\\n\\n\\nCooper-Atkins Digital Thermometer\\n\\nSGD\\xa052.00\\n\\n\\n    Only 5 left in stock\\n  \\n\\n\\n\\n',\n",
       "  'href': '/shop/cooper-atkins-digital-thermometer'},\n",
       " {'name': '\\n\\n\\n\\n\\n\\n\\n\\n\\n\\n\\nEspazzola Grouphead Cleaner v2.0\\n\\nfrom SGD\\xa015.00\\n\\n\\n\\n\\n\\n',\n",
       "  'href': '/shop/espazzola-grouphead-cleaner'},\n",
       " {'name': '\\n\\n\\n\\n\\n\\n\\n\\n\\n\\n\\nKimberly-Clark Kimtech Precision Wipes\\n\\nSGD\\xa05.50\\n\\n\\n\\n\\n',\n",
       "  'href': '/shop/kimtech-wipes'},\n",
       " {'name': '\\n\\n\\n\\n\\n\\n\\n\\n\\n\\n\\nNylon Flavour Cup\\n\\nSGD\\xa043.00\\n\\n\\n    Only 1 left in stock\\n  \\n\\n\\n\\n',\n",
       "  'href': '/shop/nylon-flavour-cup'},\n",
       " {'name': '\\n\\n\\n\\n\\n\\n\\n\\n\\n\\n\\nNylon Flavour Mug\\n\\nSGD\\xa039.00\\n\\n\\n\\nsold out\\n\\n',\n",
       "  'href': '/shop/nylon-flavour-mug'},\n",
       " {'name': '\\n\\n\\n\\n\\n\\n\\n\\n\\n\\n\\nNylon Tote Bag\\n\\nSGD\\xa025.00\\n\\n\\n\\nsold out\\n\\n',\n",
       "  'href': '/shop/nylon-tote-bag'},\n",
       " {'name': '\\n\\n\\n\\n\\n\\n\\n\\n\\n\\n\\nGood Gray T-Shirt\\n\\nSGD\\xa025.00\\n\\n\\n\\n\\n',\n",
       "  'href': '/shop/good-gray-tee-shirt'},\n",
       " {'name': '\\n\\n\\n\\n\\n\\n\\n\\n\\n\\n\\nGood White T-Shirt\\n\\nSGD\\xa025.00\\n\\n\\n\\n\\n',\n",
       "  'href': '/shop/good-white-tee-shirt'},\n",
       " {'name': '\\n\\n\\n\\n\\n\\n\\n\\n\\n\\n\\nGood Black T-Shirt (Ladies)\\n\\nSGD\\xa025.00\\n\\n\\n\\n\\n',\n",
       "  'href': '/shop/good-black-tee-shirt'},\n",
       " {'name': '\\n\\n\\n\\n\\n\\n\\n\\n\\n\\n\\nGift Voucher\\n\\nfrom SGD\\xa05.00\\n\\n\\n\\n\\n\\n',\n",
       "  'href': '/shop/gift-voucher'}]"
      ]
     },
     "execution_count": 19,
     "metadata": {},
     "output_type": "execute_result"
    }
   ],
   "source": [
    "product_list = soup.find('div', {'id': 'productList'})\n",
    "\n",
    "# Create an empty list\n",
    "products = []\n",
    "\n",
    "# Loop through each link in the restaurants table\n",
    "for product_link in product_list.find_all('a'):\n",
    "    # Start with an empty dictionary\n",
    "    product = {}\n",
    "    \n",
    "    # Add name\n",
    "    product['name'] = product_link.text\n",
    "    \n",
    "    # Add href\n",
    "    product['href'] = product_link['href']\n",
    "    \n",
    "    # Add restaurant to our list of restaurants\n",
    "    products.append(product)\n",
    "products"
   ]
  },
  {
   "cell_type": "code",
   "execution_count": 38,
   "id": "591eccf3",
   "metadata": {},
   "outputs": [],
   "source": [
    "products = [{'name': 'Honduras El Puente from SGD24.00',\n",
    "  'href': '/shop/honduras-el-puente'},\n",
    " {'name': 'Nicaragua La Huerta from SGD23.50',\n",
    "  'href': '/shop/nicaragua-el-manguito-ta2rj'},\n",
    " {'name': 'El Salvador Los Pirineos from SGD23.50',\n",
    "  'href': '/shop/el-salvador-los-pirineos-honey'},\n",
    " {'name': 'Ethiopia Benti Nenka from SGD29.00',\n",
    "  'href': '/shop/ethiopia-benti-nenka'},\n",
    " {'name': 'Nicaragua Finca Libre SGD22.00',\n",
    "  'href': '/shop/nicaragua-finca-libre-filter'},\n",
    " {'name': 'Guatemala Guatalon SGD22.50',\n",
    "  'href': '/shop/guatemala-guatalon'},\n",
    " {'name': 'Ethiopia Burtukaana Danche SGD24.50',\n",
    "  'href': '/shop/ethiopia-burtukaana-danche'},\n",
    " {'name': 'Uganda Zinule Bulambuli SGD23.00',\n",
    "  'href': '/shop/uganda-zinule-bulambuli'},\n",
    " {'name': 'Honduras El Puente SL28 SGD25.00',\n",
    "  'href': '/shop/honduras-el-puente-sl28'},\n",
    " {'name': 'Honduras El Puente Geisha SGD42.00',\n",
    "  'href': '/shop/honduras-el-puente-geisha'}]"
   ]
  },
  {
   "cell_type": "code",
   "execution_count": 39,
   "id": "83289ec1",
   "metadata": {
    "scrolled": true
   },
   "outputs": [
    {
     "name": "stdout",
     "output_type": "stream",
     "text": [
      "Scraping Honduras El Puente from SGD24.00\n",
      "Scraping Nicaragua La Huerta from SGD23.50\n",
      "Scraping El Salvador Los Pirineos from SGD23.50\n",
      "Scraping Ethiopia Benti Nenka from SGD29.00\n",
      "Scraping Nicaragua Finca Libre SGD22.00\n",
      "Scraping Guatemala Guatalon SGD22.50\n",
      "Scraping Ethiopia Burtukaana Danche SGD24.50\n",
      "Scraping Uganda Zinule Bulambuli SGD23.00\n",
      "Scraping Honduras El Puente SL28 SGD25.00\n",
      "Scraping Honduras El Puente Geisha SGD42.00\n"
     ]
    }
   ],
   "source": [
    "# Start with an empty list\n",
    "coffees = []\n",
    "\n",
    "# Loop through each restaurant in the previous step\n",
    "for product in products:\n",
    "    print('Scraping {}'.format(product['name']))\n",
    "    \n",
    "    href = product['href']\n",
    "    product_url = f'https://nylon.coffee{href}'\n",
    "    \n",
    "    # Use requests library to get the content from each restaurant page\n",
    "    product_res = requests.get(product_url)\n",
    "    \n",
    "    # Create soup object from restauarant html\n",
    "    product_soup = BeautifulSoup(product_res.content, 'lxml')\n",
    "    \n",
    "    # Isolate the foods table from restaurant page\n",
    "    para = product_soup.find('p')\n",
    "    \n",
    "    \n",
    "    for data in product_soup.find_all(\"p\"):\n",
    "        coffee = {}\n",
    "        \n",
    "        coffee['name'] = product['name']\n",
    "        \n",
    "        coffee['text'] = data.get_text()\n",
    "    \n",
    "    # Loop through each row in the tbody of the restaurants table\n",
    "#     for row in para.find_all('p'):\n",
    "#         # We'll use almost all the <td /> tags for each row, might as well create a variable\n",
    "#         cells = row.find_all('br')\n",
    "        \n",
    "#         # Start with an empty food dictionary\n",
    "#         coffee = {}\n",
    "        \n",
    "#         # Add the restaurant's name (No need for the slug, that was just for scraping purposes)\n",
    "#         coffee['name'] = product['name']\n",
    "        \n",
    "#         # Add food name from firs cell\n",
    "#         coffee['tasteing_notes'] = cells[0].text\n",
    "        \n",
    "#         # Add category, note the .strip() for removing white space\n",
    "#         coffee['producer'] = cells[1].text\n",
    "        \n",
    "#         # Add calories \n",
    "#         coffee['region'] = cells[2].text\n",
    "        \n",
    "#         # Add fat\n",
    "#         coffee['variety'] = cells[3].text\n",
    "        \n",
    "#         # Add carbs\n",
    "#         coffee['altitute'] = cells[4].text\n",
    "#         coffee['harvest'] = cells[5].text\n",
    "#         coffee['processing'] = cells[6].text\n",
    "#         coffee['weight'] = cells[7].text\n",
    "        \n",
    "        # Add the food dictionary to our list of foods\n",
    "        coffees.append(coffee)\n",
    "        \n",
    "    # Be courteous and throttle your scrapes!\n",
    "    time.sleep(3)"
   ]
  },
  {
   "cell_type": "code",
   "execution_count": 40,
   "id": "0c2795c3",
   "metadata": {},
   "outputs": [
    {
     "data": {
      "text/html": [
       "<div>\n",
       "<style scoped>\n",
       "    .dataframe tbody tr th:only-of-type {\n",
       "        vertical-align: middle;\n",
       "    }\n",
       "\n",
       "    .dataframe tbody tr th {\n",
       "        vertical-align: top;\n",
       "    }\n",
       "\n",
       "    .dataframe thead th {\n",
       "        text-align: right;\n",
       "    }\n",
       "</style>\n",
       "<table border=\"1\" class=\"dataframe\">\n",
       "  <thead>\n",
       "    <tr style=\"text-align: right;\">\n",
       "      <th></th>\n",
       "      <th>name</th>\n",
       "      <th>text</th>\n",
       "    </tr>\n",
       "  </thead>\n",
       "  <tbody>\n",
       "    <tr>\n",
       "      <th>0</th>\n",
       "      <td>Honduras El Puente from SGD24.00</td>\n",
       "      <td>Use the form on the right to contact us.</td>\n",
       "    </tr>\n",
       "    <tr>\n",
       "      <th>1</th>\n",
       "      <td>Honduras El Puente from SGD24.00</td>\n",
       "      <td>You can edit the text in this area, and change...</td>\n",
       "    </tr>\n",
       "    <tr>\n",
       "      <th>2</th>\n",
       "      <td>Honduras El Puente from SGD24.00</td>\n",
       "      <td>\\n4 Everton Park\\nSingapore, 080004\\nSingapore\\n</td>\n",
       "    </tr>\n",
       "    <tr>\n",
       "      <th>3</th>\n",
       "      <td>Honduras El Puente from SGD24.00</td>\n",
       "      <td>+65 6220 2330</td>\n",
       "    </tr>\n",
       "    <tr>\n",
       "      <th>4</th>\n",
       "      <td>Honduras El Puente from SGD24.00</td>\n",
       "      <td>A coffee bar and roastery driven by our belief...</td>\n",
       "    </tr>\n",
       "    <tr>\n",
       "      <th>...</th>\n",
       "      <td>...</td>\n",
       "      <td>...</td>\n",
       "    </tr>\n",
       "    <tr>\n",
       "      <th>109</th>\n",
       "      <td>Honduras El Puente Geisha SGD42.00</td>\n",
       "      <td>Last roast: 10 Feb 2023</td>\n",
       "    </tr>\n",
       "    <tr>\n",
       "      <th>110</th>\n",
       "      <td>Honduras El Puente Geisha SGD42.00</td>\n",
       "      <td>Shipping FAQ</td>\n",
       "    </tr>\n",
       "    <tr>\n",
       "      <th>111</th>\n",
       "      <td>Honduras El Puente Geisha SGD42.00</td>\n",
       "      <td>El Puente, literally translated as \"the bridge...</td>\n",
       "    </tr>\n",
       "    <tr>\n",
       "      <th>112</th>\n",
       "      <td>Honduras El Puente Geisha SGD42.00</td>\n",
       "      <td>The Geisha variety was made famous by the prod...</td>\n",
       "    </tr>\n",
       "    <tr>\n",
       "      <th>113</th>\n",
       "      <td>Honduras El Puente Geisha SGD42.00</td>\n",
       "      <td>© 2022 Nylon Coffee Roasters</td>\n",
       "    </tr>\n",
       "  </tbody>\n",
       "</table>\n",
       "<p>114 rows × 2 columns</p>\n",
       "</div>"
      ],
      "text/plain": [
       "                                   name  \\\n",
       "0      Honduras El Puente from SGD24.00   \n",
       "1      Honduras El Puente from SGD24.00   \n",
       "2      Honduras El Puente from SGD24.00   \n",
       "3      Honduras El Puente from SGD24.00   \n",
       "4      Honduras El Puente from SGD24.00   \n",
       "..                                  ...   \n",
       "109  Honduras El Puente Geisha SGD42.00   \n",
       "110  Honduras El Puente Geisha SGD42.00   \n",
       "111  Honduras El Puente Geisha SGD42.00   \n",
       "112  Honduras El Puente Geisha SGD42.00   \n",
       "113  Honduras El Puente Geisha SGD42.00   \n",
       "\n",
       "                                                  text  \n",
       "0             Use the form on the right to contact us.  \n",
       "1    You can edit the text in this area, and change...  \n",
       "2     \\n4 Everton Park\\nSingapore, 080004\\nSingapore\\n  \n",
       "3                                        +65 6220 2330  \n",
       "4    A coffee bar and roastery driven by our belief...  \n",
       "..                                                 ...  \n",
       "109                            Last roast: 10 Feb 2023  \n",
       "110                                       Shipping FAQ  \n",
       "111  El Puente, literally translated as \"the bridge...  \n",
       "112  The Geisha variety was made famous by the prod...  \n",
       "113                       © 2022 Nylon Coffee Roasters  \n",
       "\n",
       "[114 rows x 2 columns]"
      ]
     },
     "execution_count": 40,
     "metadata": {},
     "output_type": "execute_result"
    }
   ],
   "source": [
    "df = pd.DataFrame(coffees)\n",
    "df"
   ]
  },
  {
   "cell_type": "code",
   "execution_count": 41,
   "id": "4b03c203",
   "metadata": {},
   "outputs": [
    {
     "name": "stdout",
     "output_type": "stream",
     "text": [
      "<class 'pandas.core.frame.DataFrame'>\n",
      "RangeIndex: 114 entries, 0 to 113\n",
      "Data columns (total 2 columns):\n",
      " #   Column  Non-Null Count  Dtype \n",
      "---  ------  --------------  ----- \n",
      " 0   name    114 non-null    object\n",
      " 1   text    114 non-null    object\n",
      "dtypes: object(2)\n",
      "memory usage: 1.9+ KB\n"
     ]
    }
   ],
   "source": [
    "df.info()"
   ]
  },
  {
   "cell_type": "code",
   "execution_count": 43,
   "id": "6c07ead9",
   "metadata": {},
   "outputs": [],
   "source": [
    "df.to_csv('../data/nylon_coffee.csv', index=False)"
   ]
  },
  {
   "cell_type": "code",
   "execution_count": null,
   "id": "a3bf680d",
   "metadata": {},
   "outputs": [],
   "source": []
  }
 ],
 "metadata": {
  "kernelspec": {
   "display_name": "Python 3 (ipykernel)",
   "language": "python",
   "name": "python3"
  },
  "language_info": {
   "codemirror_mode": {
    "name": "ipython",
    "version": 3
   },
   "file_extension": ".py",
   "mimetype": "text/x-python",
   "name": "python",
   "nbconvert_exporter": "python",
   "pygments_lexer": "ipython3",
   "version": "3.9.7"
  }
 },
 "nbformat": 4,
 "nbformat_minor": 5
}
